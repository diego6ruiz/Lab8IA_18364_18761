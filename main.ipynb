{
 "cells": [
  {
   "attachments": {},
   "cell_type": "markdown",
   "metadata": {},
   "source": [
    "# Laboratorio 7 \n",
    "Jose Jorge Perez, Diego Ruiz\n",
    "\n",
    "_________"
   ]
  },
  {
   "attachments": {},
   "cell_type": "markdown",
   "metadata": {},
   "source": [
    "### ***Task 1.0: Exploración y Limpieza de Datos***"
   ]
  },
  {
   "cell_type": "code",
   "execution_count": 32,
   "metadata": {},
   "outputs": [
    {
     "data": {
      "text/html": [
       "<div>\n",
       "<style scoped>\n",
       "    .dataframe tbody tr th:only-of-type {\n",
       "        vertical-align: middle;\n",
       "    }\n",
       "\n",
       "    .dataframe tbody tr th {\n",
       "        vertical-align: top;\n",
       "    }\n",
       "\n",
       "    .dataframe thead th {\n",
       "        text-align: right;\n",
       "    }\n",
       "</style>\n",
       "<table border=\"1\" class=\"dataframe\">\n",
       "  <thead>\n",
       "    <tr style=\"text-align: right;\">\n",
       "      <th></th>\n",
       "      <th>TransactionID</th>\n",
       "      <th>CustomerID</th>\n",
       "      <th>CustomerDOB</th>\n",
       "      <th>CustGender</th>\n",
       "      <th>CustLocation</th>\n",
       "      <th>CustAccountBalance</th>\n",
       "      <th>TransactionDate</th>\n",
       "      <th>TransactionTime</th>\n",
       "      <th>TransactionAmount (INR)</th>\n",
       "    </tr>\n",
       "  </thead>\n",
       "  <tbody>\n",
       "    <tr>\n",
       "      <th>0</th>\n",
       "      <td>T1</td>\n",
       "      <td>C5841053</td>\n",
       "      <td>10/1/94</td>\n",
       "      <td>F</td>\n",
       "      <td>JAMSHEDPUR</td>\n",
       "      <td>17819.05</td>\n",
       "      <td>2/8/16</td>\n",
       "      <td>143207</td>\n",
       "      <td>25.0</td>\n",
       "    </tr>\n",
       "    <tr>\n",
       "      <th>1</th>\n",
       "      <td>T2</td>\n",
       "      <td>C2142763</td>\n",
       "      <td>4/4/57</td>\n",
       "      <td>M</td>\n",
       "      <td>JHAJJAR</td>\n",
       "      <td>2270.69</td>\n",
       "      <td>2/8/16</td>\n",
       "      <td>141858</td>\n",
       "      <td>27999.0</td>\n",
       "    </tr>\n",
       "    <tr>\n",
       "      <th>2</th>\n",
       "      <td>T3</td>\n",
       "      <td>C4417068</td>\n",
       "      <td>26/11/96</td>\n",
       "      <td>F</td>\n",
       "      <td>MUMBAI</td>\n",
       "      <td>17874.44</td>\n",
       "      <td>2/8/16</td>\n",
       "      <td>142712</td>\n",
       "      <td>459.0</td>\n",
       "    </tr>\n",
       "    <tr>\n",
       "      <th>3</th>\n",
       "      <td>T4</td>\n",
       "      <td>C5342380</td>\n",
       "      <td>14/9/73</td>\n",
       "      <td>F</td>\n",
       "      <td>MUMBAI</td>\n",
       "      <td>866503.21</td>\n",
       "      <td>2/8/16</td>\n",
       "      <td>142714</td>\n",
       "      <td>2060.0</td>\n",
       "    </tr>\n",
       "    <tr>\n",
       "      <th>4</th>\n",
       "      <td>T5</td>\n",
       "      <td>C9031234</td>\n",
       "      <td>24/3/88</td>\n",
       "      <td>F</td>\n",
       "      <td>NAVI MUMBAI</td>\n",
       "      <td>6714.43</td>\n",
       "      <td>2/8/16</td>\n",
       "      <td>181156</td>\n",
       "      <td>1762.5</td>\n",
       "    </tr>\n",
       "  </tbody>\n",
       "</table>\n",
       "</div>"
      ],
      "text/plain": [
       "  TransactionID CustomerID CustomerDOB CustGender CustLocation  \\\n",
       "0            T1   C5841053     10/1/94          F   JAMSHEDPUR   \n",
       "1            T2   C2142763      4/4/57          M      JHAJJAR   \n",
       "2            T3   C4417068    26/11/96          F       MUMBAI   \n",
       "3            T4   C5342380     14/9/73          F       MUMBAI   \n",
       "4            T5   C9031234     24/3/88          F  NAVI MUMBAI   \n",
       "\n",
       "   CustAccountBalance TransactionDate  TransactionTime  \\\n",
       "0            17819.05          2/8/16           143207   \n",
       "1             2270.69          2/8/16           141858   \n",
       "2            17874.44          2/8/16           142712   \n",
       "3           866503.21          2/8/16           142714   \n",
       "4             6714.43          2/8/16           181156   \n",
       "\n",
       "   TransactionAmount (INR)  \n",
       "0                     25.0  \n",
       "1                  27999.0  \n",
       "2                    459.0  \n",
       "3                   2060.0  \n",
       "4                   1762.5  "
      ]
     },
     "execution_count": 32,
     "metadata": {},
     "output_type": "execute_result"
    }
   ],
   "source": [
    "# Importar librerías \n",
    "import numpy as np\n",
    "import matplotlib.pyplot as plt\n",
    "import pandas as pd\n",
    "import seaborn as sns\n",
    "from sklearn import datasets\n",
    "from sklearn.mixture import GaussianMixture\n",
    "from sklearn import metrics\n",
    "import numpy as np\n",
    "\n",
    "# Cargar el dataset\n",
    "data = pd.read_csv('bank_transactions.csv')\n",
    "\n",
    "data.head()"
   ]
  },
  {
   "attachments": {},
   "cell_type": "markdown",
   "metadata": {},
   "source": [
    "Se encontró que CustomerDOB contaba con datos faltantes. Por tal razón, posteriormente se utilizó un método para poder rellenar dichos datos faltantes."
   ]
  },
  {
   "cell_type": "code",
   "execution_count": 33,
   "metadata": {},
   "outputs": [
    {
     "data": {
      "text/plain": [
       "Index(['CustomerDOB', 'CustGender', 'CustLocation', 'CustAccountBalance'], dtype='object')"
      ]
     },
     "execution_count": 33,
     "metadata": {},
     "output_type": "execute_result"
    },
    {
     "data": {
      "image/png": "[encoded data removed]",
      "text/plain": [
       "<Figure size 432x288 with 1 Axes>"
      ]
     },
     "metadata": {
      "needs_background": "light"
     },
     "output_type": "display_data"
    }
   ],
   "source": [
    "# Matriz de datos faltantes\n",
    "sns.heatmap(data.isnull(), cbar=False)\n",
    "\n",
    "# Mostrar columnas con datos faltantes, o con datos fuera de lugar (como un string en columna numérica)\n",
    "data.columns[data.isnull().any()]"
   ]
  },
  {
   "cell_type": "code",
   "execution_count": 34,
   "metadata": {},
   "outputs": [
    {
     "data": {
      "text/plain": [
       "Index([], dtype='object')"
      ]
     },
     "execution_count": 34,
     "metadata": {},
     "output_type": "execute_result"
    }
   ],
   "source": [
    "for col in data.columns[data.isnull().any()]:\n",
    "\n",
    "    if data[col].dtype == 'float64' or data[col].dtype == 'int64':\n",
    "        data[col].fillna(data[col].mean(), inplace=True)\n",
    "\n",
    "    else:\n",
    "        data[col].fillna(data[col].mode()[0], inplace=True)\n",
    "\n",
    "data.columns[data.isnull().any()]\n"
   ]
  },
  {
   "cell_type": "code",
   "execution_count": 35,
   "metadata": {},
   "outputs": [],
   "source": [
    "data_copy = data.copy()"
   ]
  },
  {
   "cell_type": "code",
   "execution_count": 36,
   "metadata": {},
   "outputs": [],
   "source": [
    "data = data_copy.copy()"
   ]
  },
  {
   "attachments": {},
   "cell_type": "markdown",
   "metadata": {},
   "source": [
    "### Encoding"
   ]
  },
  {
   "cell_type": "code",
   "execution_count": 37,
   "metadata": {},
   "outputs": [
    {
     "name": "stderr",
     "output_type": "stream",
     "text": [
      "C:\\Users\\JJ\\AppData\\Local\\Temp/ipykernel_13520/4143366722.py:19: FutureWarning: The default value of numeric_only in DataFrameGroupBy.mean is deprecated. In a future version, numeric_only will default to False. Either specify numeric_only or select only columns which should be valid for the function.\n",
      "  data = data.groupby(['CustomerID']).mean()\n"
     ]
    },
    {
     "data": {
      "text/html": [
       "<div>\n",
       "<style scoped>\n",
       "    .dataframe tbody tr th:only-of-type {\n",
       "        vertical-align: middle;\n",
       "    }\n",
       "\n",
       "    .dataframe tbody tr th {\n",
       "        vertical-align: top;\n",
       "    }\n",
       "\n",
       "    .dataframe thead th {\n",
       "        text-align: right;\n",
       "    }\n",
       "</style>\n",
       "<table border=\"1\" class=\"dataframe\">\n",
       "  <thead>\n",
       "    <tr style=\"text-align: right;\">\n",
       "      <th></th>\n",
       "      <th>CustGender</th>\n",
       "      <th>CustAccountBalance</th>\n",
       "      <th>TransactionTime</th>\n",
       "      <th>TransactionAmount (INR)</th>\n",
       "      <th>Age</th>\n",
       "    </tr>\n",
       "    <tr>\n",
       "      <th>CustomerID</th>\n",
       "      <th></th>\n",
       "      <th></th>\n",
       "      <th></th>\n",
       "      <th></th>\n",
       "      <th></th>\n",
       "    </tr>\n",
       "  </thead>\n",
       "  <tbody>\n",
       "    <tr>\n",
       "      <th>C1010011</th>\n",
       "      <td>0.5</td>\n",
       "      <td>76340.635</td>\n",
       "      <td>67521.0</td>\n",
       "      <td>2553.0</td>\n",
       "      <td>35.5</td>\n",
       "    </tr>\n",
       "    <tr>\n",
       "      <th>C1010012</th>\n",
       "      <td>0.0</td>\n",
       "      <td>24204.490</td>\n",
       "      <td>204409.0</td>\n",
       "      <td>1499.0</td>\n",
       "      <td>29.0</td>\n",
       "    </tr>\n",
       "    <tr>\n",
       "      <th>C1010014</th>\n",
       "      <td>0.5</td>\n",
       "      <td>100112.950</td>\n",
       "      <td>187378.0</td>\n",
       "      <td>727.5</td>\n",
       "      <td>35.0</td>\n",
       "    </tr>\n",
       "    <tr>\n",
       "      <th>C1010018</th>\n",
       "      <td>1.0</td>\n",
       "      <td>496.180</td>\n",
       "      <td>170254.0</td>\n",
       "      <td>30.0</td>\n",
       "      <td>33.0</td>\n",
       "    </tr>\n",
       "    <tr>\n",
       "      <th>C1010024</th>\n",
       "      <td>0.0</td>\n",
       "      <td>87058.650</td>\n",
       "      <td>141103.0</td>\n",
       "      <td>5000.0</td>\n",
       "      <td>58.0</td>\n",
       "    </tr>\n",
       "  </tbody>\n",
       "</table>\n",
       "</div>"
      ],
      "text/plain": [
       "            CustGender  CustAccountBalance  TransactionTime  \\\n",
       "CustomerID                                                    \n",
       "C1010011           0.5           76340.635          67521.0   \n",
       "C1010012           0.0           24204.490         204409.0   \n",
       "C1010014           0.5          100112.950         187378.0   \n",
       "C1010018           1.0             496.180         170254.0   \n",
       "C1010024           0.0           87058.650         141103.0   \n",
       "\n",
       "            TransactionAmount (INR)   Age  \n",
       "CustomerID                                 \n",
       "C1010011                     2553.0  35.5  \n",
       "C1010012                     1499.0  29.0  \n",
       "C1010014                      727.5  35.0  \n",
       "C1010018                       30.0  33.0  \n",
       "C1010024                     5000.0  58.0  "
      ]
     },
     "execution_count": 37,
     "metadata": {},
     "output_type": "execute_result"
    }
   ],
   "source": [
    "import datetime\n",
    "from datetime import timedelta, date\n",
    "from sklearn.preprocessing import LabelEncoder\n",
    "\n",
    "data['YOB'] = '19' + data['CustomerDOB'].str[-2:]\n",
    "data['YOB'] = data['YOB'].astype(int)\n",
    "\n",
    "data = data.drop(['CustomerDOB'], axis=1)\n",
    "\n",
    "data['Age'] = 2023 - data['YOB']\n",
    "\n",
    "data = data.drop(['YOB'], axis=1)\n",
    "\n",
    "data['CustGender'] = data['CustGender'].map({'M': 0, 'F': 1})\n",
    "\n",
    "data = data.drop(['TransactionID'], axis=1)\n",
    "data = data.drop(['TransactionDate'], axis=1)\n",
    "\n",
    "data = data.groupby(['CustomerID']).mean()\n",
    "\n",
    "data.head()"
   ]
  },
  {
   "cell_type": "code",
   "execution_count": 38,
   "metadata": {},
   "outputs": [
    {
     "name": "stdout",
     "output_type": "stream",
     "text": [
      "   CustGender   Age  CustAccountBalance  TransactionAmount (INR)  \\\n",
      "1         0.0  29.0           24204.490                   1499.0   \n",
      "3         1.0  33.0             496.180                     30.0   \n",
      "4         0.0  58.0           87058.650                   5000.0   \n",
      "5         1.0  35.0          296828.370                    557.0   \n",
      "6         0.0  37.0            5200.155                    932.0   \n",
      "\n",
      "   TransactionTime  \n",
      "1         204409.0  \n",
      "3         170254.0  \n",
      "4         141103.0  \n",
      "5          95212.0  \n",
      "6         162771.5  \n"
     ]
    }
   ],
   "source": [
    "custGender = data['CustGender'].values\n",
    "custAge = data['Age'].values\n",
    "custAccountBalance = data['CustAccountBalance'].values\n",
    "transactionAmount = data['TransactionAmount (INR)'].values\n",
    "transactionType = data['TransactionTime'].values\n",
    "\n",
    "data = pd.DataFrame({'CustGender': custGender, 'Age': custAge, 'CustAccountBalance': custAccountBalance, 'TransactionAmount (INR)': transactionAmount, 'TransactionTime': transactionType})\n",
    "\n",
    "data = data[(data['CustGender'] == 0) | (data['CustGender'] == 1)]\n",
    "\n",
    "print(data.head())"
   ]
  },
  {
   "attachments": {},
   "cell_type": "markdown",
   "metadata": {},
   "source": [
    "### Balanceo\n",
    "En este caso se determinó que no es necesario balancear los datos debido a que es un modelo no supervisado, por lo cual no se requiere.\n",
    "\n",
    "### Escalar\n",
    "Aca, se utilizó la librería de SKLearn para poder escalar y normalizar los datos que lo necesitaran. Asimismo, también se hizo un análisis pre y post escalamiento para determinar la distribución de los datos. En el preprocesamiento, se podía observar cómo ciertas variables tenían una alta desviación estándar a comparación de su respectiva media. Esto fue solucionado a través de la función de MinMaxScaler()."
   ]
  },
  {
   "cell_type": "code",
   "execution_count": 39,
   "metadata": {},
   "outputs": [],
   "source": [
    "data2 = data.copy()"
   ]
  },
  {
   "cell_type": "code",
   "execution_count": 40,
   "metadata": {},
   "outputs": [
    {
     "name": "stdout",
     "output_type": "stream",
     "text": [
      "\n",
      "\n",
      "Media y desviación estándar de cada columna:\n"
     ]
    },
    {
     "data": {
      "text/html": [
       "<div>\n",
       "<style scoped>\n",
       "    .dataframe tbody tr th:only-of-type {\n",
       "        vertical-align: middle;\n",
       "    }\n",
       "\n",
       "    .dataframe tbody tr th {\n",
       "        vertical-align: top;\n",
       "    }\n",
       "\n",
       "    .dataframe thead th {\n",
       "        text-align: right;\n",
       "    }\n",
       "</style>\n",
       "<table border=\"1\" class=\"dataframe\">\n",
       "  <thead>\n",
       "    <tr style=\"text-align: right;\">\n",
       "      <th></th>\n",
       "      <th>CustGender</th>\n",
       "      <th>Age</th>\n",
       "      <th>CustAccountBalance</th>\n",
       "      <th>TransactionAmount (INR)</th>\n",
       "      <th>TransactionTime</th>\n",
       "    </tr>\n",
       "  </thead>\n",
       "  <tbody>\n",
       "    <tr>\n",
       "      <th>count</th>\n",
       "      <td>824283.000000</td>\n",
       "      <td>824283.000000</td>\n",
       "      <td>8.242830e+05</td>\n",
       "      <td>8.242830e+05</td>\n",
       "      <td>824283.000000</td>\n",
       "    </tr>\n",
       "    <tr>\n",
       "      <th>mean</th>\n",
       "      <td>0.253167</td>\n",
       "      <td>43.107096</td>\n",
       "      <td>1.152263e+05</td>\n",
       "      <td>1.573144e+03</td>\n",
       "      <td>157055.751088</td>\n",
       "    </tr>\n",
       "    <tr>\n",
       "      <th>std</th>\n",
       "      <td>0.434826</td>\n",
       "      <td>21.180864</td>\n",
       "      <td>8.151974e+05</td>\n",
       "      <td>6.591278e+03</td>\n",
       "      <td>49957.649919</td>\n",
       "    </tr>\n",
       "    <tr>\n",
       "      <th>min</th>\n",
       "      <td>0.000000</td>\n",
       "      <td>24.000000</td>\n",
       "      <td>0.000000e+00</td>\n",
       "      <td>0.000000e+00</td>\n",
       "      <td>0.000000</td>\n",
       "    </tr>\n",
       "    <tr>\n",
       "      <th>25%</th>\n",
       "      <td>0.000000</td>\n",
       "      <td>33.000000</td>\n",
       "      <td>5.243320e+03</td>\n",
       "      <td>1.800000e+02</td>\n",
       "      <td>124803.000000</td>\n",
       "    </tr>\n",
       "    <tr>\n",
       "      <th>50%</th>\n",
       "      <td>0.000000</td>\n",
       "      <td>36.500000</td>\n",
       "      <td>1.793333e+04</td>\n",
       "      <td>4.877150e+02</td>\n",
       "      <td>163732.000000</td>\n",
       "    </tr>\n",
       "    <tr>\n",
       "      <th>75%</th>\n",
       "      <td>1.000000</td>\n",
       "      <td>43.000000</td>\n",
       "      <td>6.048961e+04</td>\n",
       "      <td>1.217390e+03</td>\n",
       "      <td>195244.000000</td>\n",
       "    </tr>\n",
       "    <tr>\n",
       "      <th>max</th>\n",
       "      <td>1.000000</td>\n",
       "      <td>123.000000</td>\n",
       "      <td>1.150355e+08</td>\n",
       "      <td>1.560035e+06</td>\n",
       "      <td>235959.000000</td>\n",
       "    </tr>\n",
       "  </tbody>\n",
       "</table>\n",
       "</div>"
      ],
      "text/plain": [
       "          CustGender            Age  CustAccountBalance  \\\n",
       "count  824283.000000  824283.000000        8.242830e+05   \n",
       "mean        0.253167      43.107096        1.152263e+05   \n",
       "std         0.434826      21.180864        8.151974e+05   \n",
       "min         0.000000      24.000000        0.000000e+00   \n",
       "25%         0.000000      33.000000        5.243320e+03   \n",
       "50%         0.000000      36.500000        1.793333e+04   \n",
       "75%         1.000000      43.000000        6.048961e+04   \n",
       "max         1.000000     123.000000        1.150355e+08   \n",
       "\n",
       "       TransactionAmount (INR)  TransactionTime  \n",
       "count             8.242830e+05    824283.000000  \n",
       "mean              1.573144e+03    157055.751088  \n",
       "std               6.591278e+03     49957.649919  \n",
       "min               0.000000e+00         0.000000  \n",
       "25%               1.800000e+02    124803.000000  \n",
       "50%               4.877150e+02    163732.000000  \n",
       "75%               1.217390e+03    195244.000000  \n",
       "max               1.560035e+06    235959.000000  "
      ]
     },
     "execution_count": 40,
     "metadata": {},
     "output_type": "execute_result"
    }
   ],
   "source": [
    "\n",
    "print('\\n\\nMedia y desviación estándar de cada columna:')\n",
    "data2.describe()"
   ]
  },
  {
   "cell_type": "code",
   "execution_count": 41,
   "metadata": {},
   "outputs": [
    {
     "name": "stdout",
     "output_type": "stream",
     "text": [
      "        Age  CustAccountBalance  TransactionAmount (INR)  TransactionTime  \\\n",
      "0 -0.572244           -0.095933                -0.009665         0.814395   \n",
      "1 -0.782246           -0.230715                -0.383793         0.433087   \n",
      "2  0.754764           -0.037091                 0.558087        -0.342775   \n",
      "3 -0.289142            0.168286                -0.116460        -0.935154   \n",
      "4 -0.819125           -0.383435                -0.276341         0.325035   \n",
      "\n",
      "   CustGender  \n",
      "0         0.0  \n",
      "1         1.0  \n",
      "2         0.0  \n",
      "3         1.0  \n",
      "4         0.0  \n"
     ]
    }
   ],
   "source": [
    "from sklearn.preprocessing import StandardScaler, normalize\n",
    "\n",
    "data3 = data2.drop(['CustGender'], axis=1)\n",
    "\n",
    "scaler = StandardScaler()\n",
    "scaled_features = scaler.fit_transform(data3)\n",
    "normalized_df = normalize(scaled_features) \n",
    "\n",
    "df_feat = pd.DataFrame(normalized_df, columns=data3.columns)\n",
    "df_feat['CustGender'] = data2['CustGender'].values\n",
    "print(df_feat.head())"
   ]
  },
  {
   "attachments": {},
   "cell_type": "markdown",
   "metadata": {},
   "source": [
    "### Selección de Variables\n",
    "Finalmente, se quiso determinar los 2 features que se estarían utilizando para la realización del modelo de agrupación. En este caso, se utilizó PCA para poder determinar qué 2 variables son las más significativas para los modelos a realizar, por eso se seleccionó transaction time junto con age."
   ]
  },
  {
   "cell_type": "code",
   "execution_count": 42,
   "metadata": {},
   "outputs": [
    {
     "name": "stdout",
     "output_type": "stream",
     "text": [
      "['TransactionTime', 'Age']\n"
     ]
    }
   ],
   "source": [
    "from sklearn.decomposition import PCA\n",
    "pca = PCA(n_components = 2) \n",
    "X_principal = pca.fit_transform(df_feat) \n",
    "X_principal = pd.DataFrame(X_principal) \n",
    "X_principal.columns = ['P1', 'P2'] \n",
    "\n",
    "# determinar cuales variables fueron seleccionadas por PCA\n",
    "selected_variables = []\n",
    "for component in pca.components_:\n",
    "    max_index = np.argmax(np.abs(component))\n",
    "    selected_variables.append(df_feat.columns[max_index])\n",
    "    \n",
    "print(selected_variables)"
   ]
  },
  {
   "attachments": {},
   "cell_type": "markdown",
   "metadata": {},
   "source": [
    "\n",
    "## Mixture Models\n",
    "1. Si considera necesario haga split del dataset como en los laboratorios anteriores. Recuerde que es un problema de aprendizaje no supervisado\n",
    "En este caso, no se hizo split del dataset ya que no se tiene un problema de aprendizaje supervisado. Es decir, que no se está comprobando que el modelo realizado sepa clasificar datos. Simplemente se quiere crear agrupaciones de los clientes del banco.\n",
    "\n",
    "2. Seleccione el número de clusters que mejor se adapte al dataset. Justifique su elección\n",
    "Se utilizó la Gráfica de \"Elbow\" en ambos casos (Mixed Model manual y de SKLearn) para determinar el punto donde se estabiliza el Negative Log Likelihood (o NLL). Este punto donde se estabiliza dicho valor es conocido como el \"codo\" de una gráfica. A través de este procedimiento, en ambos casos, se determinó que la mejor cantidad de número de clusters era 4.\n",
    "\n",
    "3. ¿Podría PCA ayudarle a mejorar la calidad de sus clusters?\n",
    "PCA sí puede ayudar a mejorar la cantidad de nuestros clusters disminuyendo la cantidad de features que se encuentran en el dataset y que producen ruido, sin perder información importante para este. Esto especialmente considerando la gran cantidad de features que contiene el respectivo dataset.\n",
    "\n",
    "4. Muestre al menos una gráfica que muestre cómo se dividen los clusters seleccionados. Seleccione dos features, justifique su elección\n",
    "En este caso se crearon 2 gráficas, una para Mixed Model manual y otra para SKLearn. En ambos casos, se puede observar que se dividen los datos y cómo se crearon los respectivos clusters. Inicialmente, se había realizado el modelo con dos variables diferentes que habían sido escogido según su nivel de correlación entre sí (justo como se realizó en el Lab 7). Sin embargo, estas variables no presentaban los datos de manera óptima para señalizar las agrupaciones. Por tal razón, se optó por buscar otra manera para buscar las mejores variables.\n",
    "\n",
    "5. Provea una métrica de desempeño, justificando su elección\n",
    "Para seleccionar la cantidad de clusters, se utilizó le métrica de NLL y se graficaron los valores de WSS de diferentes modelos con distintos valores de clusters. Este valor indica el Negative Log Likelihood del modelo, y se buscaba encontrar aquel número de clusters que en la gráfica representara el codo de la misma.\n",
    "\n",
    "Por otro lado, decidió utilizar el índice de Davies–Bouldin para analizar el rendimiento de cada modelo. Esto ya que este permite calificar que tan bien se dividieron los clusters de los algoritmos.\n",
    "\n",
    "En este caso, cabe destacar que con SKLearn se logró obtener un mejor resultado. Esto ya que se obtuvo un índice de 0.74 mientras que con el algoritmo manual se obtuvo 0.87.\n",
    "\n",
    "6. Compare sus resultados con los que obtuvo en el laboratorio 7 ¿Cuál es mejor? ¿Por qué?\n",
    "En el laboratorio 7, como se mencionó anteriormente, se seleccionaron diferentes variables y se tuvo una cantidad distinta de clusters (Age y Customer Account Balance) (3 en ambos modelos de K-Means). Debido a la teoría de Gaussian Mixed Model, las variables anteriormente seleccionadas no eran aptas para este modelo debido a que los datos no estaban agrupados en distribuciones. Por tal razón, el Mixed Model hacía agrupaciones raras que visualmente no tenían sentido. Como resultado, se tuvo que determinar otras variables a utilizar para el modelo de Gaussian Mixed Model.\n",
    "\n",
    "Por tal razón, creo que no podemos decir cuál es mejor o cuál es peor. Esto debido a que ambos modelos analizaron aspectos y variables diferentes, incluyendo parámetros distintos. Sin embargo, el modelo de K-Means presentó un mejor resultado. Esto debido a que ambos modelos de K-Means presentaron un índice de 0.42 y 0.44, mientras que Mixed Model presentó 0.74 y 0.87.\n",
    "\n",
    "7. Considerando sus resultados del laboratorio 7, ¿cuándo cree que es mejor usar Mixture Models y K-Means?\n",
    "Como se mencionó anteriormente, es mejor utilizar K-Means al graficar las variables (sin clasificación), uno puede determinar a simple vista posibles agrupaciones. Sin embargo, Mixture Models es más útil cuando existen patrones escondidos dentro de un conjunto muy grande de datos. Estos patrones son posibles de encontrar a través de agrupar los datos en distribuciones de probabilidades, como la gaussiana."
   ]
  },
  {
   "attachments": {},
   "cell_type": "markdown",
   "metadata": {},
   "source": [
    "### Task 1.1: Implementacion de Mixture Models"
   ]
  },
  {
   "cell_type": "code",
   "execution_count": 43,
   "metadata": {},
   "outputs": [],
   "source": [
    "import numpy as np\n",
    "from scipy.stats import norm\n",
    "import numpy as np\n",
    "from scipy.stats import multivariate_normal\n",
    "\n",
    "def gaussian_mixture_model(X, n_components, n_iterations=10, tolerance=0.001):\n",
    "    n_samples, n_features = X.shape\n",
    "\n",
    "    # Initialize means, covariances, and weights\n",
    "    means = np.random.randn(n_components, n_features)\n",
    "    covariances = [np.eye(n_features) for _ in range(n_components)]\n",
    "    weights = np.ones(n_components) / n_components\n",
    "\n",
    "    prev_log_likelihood = 0\n",
    "\n",
    "    for i in range(n_iterations):\n",
    "        \n",
    "        # E-step\n",
    "        likelihoods = np.zeros((n_samples, n_components))\n",
    "        for j in range(n_components):\n",
    "            likelihoods[:, j] = weights[j] * multivariate_normal.pdf(X, means[j], covariances[j])\n",
    "        responsibilities = likelihoods / np.sum(likelihoods, axis=1, keepdims=True)\n",
    "\n",
    "        # M-step\n",
    "        total_responsibilities = np.sum(responsibilities, axis=0)\n",
    "        weights = total_responsibilities / n_samples\n",
    "        means = np.dot(responsibilities.T, X) / total_responsibilities[:, np.newaxis]\n",
    "        for j in range(n_components):\n",
    "            diff = X - means[j]\n",
    "            covariances[j] = np.dot(responsibilities[:, j] * diff.T, diff) / total_responsibilities[j]\n",
    "\n",
    "        # Check convergence\n",
    "        log_likelihood = np.sum(np.log(np.sum(likelihoods, axis=1)))\n",
    "        if i > 0 and np.abs(log_likelihood - prev_log_likelihood) < tolerance:\n",
    "            break\n",
    "        prev_log_likelihood = log_likelihood\n",
    "\n",
    "    # Calculate responsibilities\n",
    "    likelihoods = np.zeros((n_samples, n_components))\n",
    "    for j in range(n_components):\n",
    "        likelihoods[:, j] = weights[j] * multivariate_normal.pdf(X, means[j], covariances[j])\n",
    "    responsibilities = likelihoods / np.sum(likelihoods, axis=1, keepdims=True)\n",
    "\n",
    "    avg_log_likelihood = prev_log_likelihood / n_samples\n",
    "\n",
    "    # Assign data points to clusters\n",
    "    clusters = np.argmax(responsibilities, axis=1)\n",
    "\n",
    "    return means, covariances, weights, clusters, avg_log_likelihood"
   ]
  },
  {
   "cell_type": "code",
   "execution_count": 44,
   "metadata": {},
   "outputs": [
    {
     "name": "stdout",
     "output_type": "stream",
     "text": [
      "k: 1 NLL: 1.891842395694589\n",
      "k: 2 NLL: 1.8038647491086044\n",
      "k: 3 NLL: 1.6794702773503765\n",
      "k: 4 NLL: 1.1849080237569034\n",
      "k: 5 NLL: 0.789408053723945\n",
      "k: 6 NLL: 0.7877159450478698\n",
      "k: 7 NLL: 0.7596709864616011\n",
      "k: 8 NLL: 0.8127544829187969\n"
     ]
    },
    {
     "data": {
      "text/plain": [
       "[<matplotlib.lines.Line2D at 0x19519791760>]"
      ]
     },
     "execution_count": 44,
     "metadata": {},
     "output_type": "execute_result"
    },
    {
     "data": {
      "image/png": "[encoded data removed]",
      "text/plain": [
       "<Figure size 432x288 with 1 Axes>"
      ]
     },
     "metadata": {
      "needs_background": "light"
     },
     "output_type": "display_data"
    }
   ],
   "source": [
    "def calculate_NLL(X, kmax=10):\n",
    "    nll = []\n",
    "    for k in range(1, kmax+1):\n",
    "        means, covariances, weights, clusters, avg_log_likelihood = gaussian_mixture_model(X_principal, n_components=k)\n",
    "        curr_nll = -avg_log_likelihood\n",
    "        print(\"k:\", k, \"NLL:\", curr_nll)\n",
    "        nll.append(curr_nll)\n",
    "    return nll\n",
    "\n",
    "# randomie X_principal\n",
    "X_principal = X_principal.sample(frac=1).reset_index(drop=True)\n",
    "\n",
    "nll = calculate_NLL(X_principal, kmax=8)\n",
    "\n",
    "import matplotlib.pyplot as plt\n",
    "\n",
    "fig = plt.figure()\n",
    "ax = plt.axes()\n",
    "\n",
    "x_plot = list(range(1, 9))\n",
    "ax.plot(x_plot, nll)"
   ]
  },
  {
   "cell_type": "code",
   "execution_count": 45,
   "metadata": {},
   "outputs": [],
   "source": [
    "means, covariances, weights, clusters, log_likelihood = gaussian_mixture_model(X_principal, n_components=4)"
   ]
  },
  {
   "cell_type": "code",
   "execution_count": 46,
   "metadata": {},
   "outputs": [
    {
     "name": "stderr",
     "output_type": "stream",
     "text": [
      "C:\\Users\\JJ\\AppData\\Local\\Temp/ipykernel_13520/3072930107.py:24: MatplotlibDeprecationWarning: Passing the angle parameter of __init__() positionally is deprecated since Matplotlib 3.6; the parameter will become keyword-only two minor releases later.\n",
      "  ellipse = Ellipse(pos, nsig * width, nsig * height, angle)\n"
     ]
    },
    {
     "data": {
      "image/png": "[encoded data removed]",
      "text/plain": [
       "<Figure size 432x288 with 1 Axes>"
      ]
     },
     "metadata": {
      "needs_background": "light"
     },
     "output_type": "display_data"
    }
   ],
   "source": [
    "plt.scatter(X_principal['P1'], X_principal['P2'], c = clusters, cmap =plt.cm.winter, alpha = 0.6) \n",
    "\n",
    "import matplotlib.pyplot as plt\n",
    "import numpy as np\n",
    "from scipy.stats import multivariate_normal\n",
    "from matplotlib.patches import Ellipse\n",
    "\n",
    "w_factor = 0.2 / max(weights)\n",
    "\n",
    "for pos, covar, w in zip(means, covariances, weights):\n",
    "    w2 = w * w_factor\n",
    "\n",
    "    # Convert covariance to principal axes\n",
    "    if covar.shape == (2, 2):\n",
    "        U, s, Vt = np.linalg.svd(covar)\n",
    "        angle = np.degrees(np.arctan2(U[1, 0], U[0, 0]))\n",
    "        width, height = 2 * np.sqrt(s)\n",
    "    else:\n",
    "        angle = 0\n",
    "        width, height = 2 * np.sqrt(covar)\n",
    "    \n",
    "    # Draw the Ellipse\n",
    "    for nsig in range(1, 4):\n",
    "        ellipse = Ellipse(pos, nsig * width, nsig * height, angle)\n",
    "        ellipse.set_alpha(w2)\n",
    "        plt.gca().add_patch(ellipse)\n",
    "\n",
    "plt.xlabel('TransactionTime')\n",
    "plt.ylabel('Age')\n",
    "plt.title('Gaussian Mixture Model - Manual')\n",
    "plt.show()\n"
   ]
  },
  {
   "attachments": {},
   "cell_type": "markdown",
   "metadata": {},
   "source": [
    "En este caso, la métrica de Davis Bouldin Index indica qué tan bien se crearon los clusters del respectivo modelo. Mientras más cercano a 0 esté el valor, mejor. En este caso se obtuvo 0.87."
   ]
  },
  {
   "cell_type": "code",
   "execution_count": 47,
   "metadata": {},
   "outputs": [
    {
     "name": "stdout",
     "output_type": "stream",
     "text": [
      "Davis Bouldin Index: 0.9389940489014663\n"
     ]
    }
   ],
   "source": [
    "# Davis Bouldin Index\n",
    "print(\"Davis Bouldin Index:\", metrics.davies_bouldin_score(X_principal, clusters))"
   ]
  },
  {
   "attachments": {},
   "cell_type": "markdown",
   "metadata": {},
   "source": [
    "----------\n",
    "### Task 1.2: Implementacion de Mixture Models con libreria"
   ]
  },
  {
   "cell_type": "code",
   "execution_count": 48,
   "metadata": {},
   "outputs": [
    {
     "name": "stdout",
     "output_type": "stream",
     "text": [
      "k: 1 NLL: 1.8918423956987882\n",
      "k: 2 NLL: 1.3382940303325408\n",
      "k: 3 NLL: 1.0957583577956107\n",
      "k: 4 NLL: 0.7688368508136644\n",
      "k: 5 NLL: 0.6639253748646813\n",
      "k: 6 NLL: 0.6292587432842226\n",
      "k: 7 NLL: 0.5504968561679426\n",
      "k: 8 NLL: 0.5129592622957706\n"
     ]
    },
    {
     "data": {
      "text/plain": [
       "[<matplotlib.lines.Line2D at 0x19504a1a850>]"
      ]
     },
     "execution_count": 48,
     "metadata": {},
     "output_type": "execute_result"
    },
    {
     "data": {
      "image/png": "[encoded data removed]",
      "text/plain": [
       "<Figure size 432x288 with 1 Axes>"
      ]
     },
     "metadata": {
      "needs_background": "light"
     },
     "output_type": "display_data"
    }
   ],
   "source": [
    "def calculate_NLL(X, kmax=10):\n",
    "    nll = []\n",
    "    for k in range(1, kmax+1):\n",
    "        gmm = GaussianMixture(n_components = k) \n",
    "        gmm.fit(X)\n",
    "        curr_nll = -gmm.score(X)\n",
    "        print(\"k:\", k, \"NLL:\", curr_nll)\n",
    "        nll.append(curr_nll)\n",
    "    return nll\n",
    "\n",
    "nll = calculate_NLL(X_principal, kmax=8)\n",
    "\n",
    "import matplotlib.pyplot as plt\n",
    "\n",
    "fig = plt.figure()\n",
    "ax = plt.axes()\n",
    "\n",
    "x_plot = list(range(1, 9))\n",
    "ax.plot(x_plot, nll)"
   ]
  },
  {
   "cell_type": "code",
   "execution_count": 49,
   "metadata": {},
   "outputs": [
    {
     "data": {
      "text/html": [
       "<style>#sk-container-id-1 {color: black;background-color: white;}#sk-container-id-1 pre{padding: 0;}#sk-container-id-1 div.sk-toggleable {background-color: white;}#sk-container-id-1 label.sk-toggleable__label {cursor: pointer;display: block;width: 100%;margin-bottom: 0;padding: 0.3em;box-sizing: border-box;text-align: center;}#sk-container-id-1 label.sk-toggleable__label-arrow:before {content: \"▸\";float: left;margin-right: 0.25em;color: #696969;}#sk-container-id-1 label.sk-toggleable__label-arrow:hover:before {color: black;}#sk-container-id-1 div.sk-estimator:hover label.sk-toggleable__label-arrow:before {color: black;}#sk-container-id-1 div.sk-toggleable__content {max-height: 0;max-width: 0;overflow: hidden;text-align: left;background-color: #f0f8ff;}#sk-container-id-1 div.sk-toggleable__content pre {margin: 0.2em;color: black;border-radius: 0.25em;background-color: #f0f8ff;}#sk-container-id-1 input.sk-toggleable__control:checked~div.sk-toggleable__content {max-height: 200px;max-width: 100%;overflow: auto;}#sk-container-id-1 input.sk-toggleable__control:checked~label.sk-toggleable__label-arrow:before {content: \"▾\";}#sk-container-id-1 div.sk-estimator input.sk-toggleable__control:checked~label.sk-toggleable__label {background-color: #d4ebff;}#sk-container-id-1 div.sk-label input.sk-toggleable__control:checked~label.sk-toggleable__label {background-color: #d4ebff;}#sk-container-id-1 input.sk-hidden--visually {border: 0;clip: rect(1px 1px 1px 1px);clip: rect(1px, 1px, 1px, 1px);height: 1px;margin: -1px;overflow: hidden;padding: 0;position: absolute;width: 1px;}#sk-container-id-1 div.sk-estimator {font-family: monospace;background-color: #f0f8ff;border: 1px dotted black;border-radius: 0.25em;box-sizing: border-box;margin-bottom: 0.5em;}#sk-container-id-1 div.sk-estimator:hover {background-color: #d4ebff;}#sk-container-id-1 div.sk-parallel-item::after {content: \"\";width: 100%;border-bottom: 1px solid gray;flex-grow: 1;}#sk-container-id-1 div.sk-label:hover label.sk-toggleable__label {background-color: #d4ebff;}#sk-container-id-1 div.sk-serial::before {content: \"\";position: absolute;border-left: 1px solid gray;box-sizing: border-box;top: 0;bottom: 0;left: 50%;z-index: 0;}#sk-container-id-1 div.sk-serial {display: flex;flex-direction: column;align-items: center;background-color: white;padding-right: 0.2em;padding-left: 0.2em;position: relative;}#sk-container-id-1 div.sk-item {position: relative;z-index: 1;}#sk-container-id-1 div.sk-parallel {display: flex;align-items: stretch;justify-content: center;background-color: white;position: relative;}#sk-container-id-1 div.sk-item::before, #sk-container-id-1 div.sk-parallel-item::before {content: \"\";position: absolute;border-left: 1px solid gray;box-sizing: border-box;top: 0;bottom: 0;left: 50%;z-index: -1;}#sk-container-id-1 div.sk-parallel-item {display: flex;flex-direction: column;z-index: 1;position: relative;background-color: white;}#sk-container-id-1 div.sk-parallel-item:first-child::after {align-self: flex-end;width: 50%;}#sk-container-id-1 div.sk-parallel-item:last-child::after {align-self: flex-start;width: 50%;}#sk-container-id-1 div.sk-parallel-item:only-child::after {width: 0;}#sk-container-id-1 div.sk-dashed-wrapped {border: 1px dashed gray;margin: 0 0.4em 0.5em 0.4em;box-sizing: border-box;padding-bottom: 0.4em;background-color: white;}#sk-container-id-1 div.sk-label label {font-family: monospace;font-weight: bold;display: inline-block;line-height: 1.2em;}#sk-container-id-1 div.sk-label-container {text-align: center;}#sk-container-id-1 div.sk-container {/* jupyter's `normalize.less` sets `[hidden] { display: none; }` but bootstrap.min.css set `[hidden] { display: none !important; }` so we also need the `!important` here to be able to override the default hidden behavior on the sphinx rendered scikit-learn.org. See: https://github.com/scikit-learn/scikit-learn/issues/21755 */display: inline-block !important;position: relative;}#sk-container-id-1 div.sk-text-repr-fallback {display: none;}</style><div id=\"sk-container-id-1\" class=\"sk-top-container\"><div class=\"sk-text-repr-fallback\"><pre>GaussianMixture(n_components=4)</pre><b>In a Jupyter environment, please rerun this cell to show the HTML representation or trust the notebook. <br />On GitHub, the HTML representation is unable to render, please try loading this page with nbviewer.org.</b></div><div class=\"sk-container\" hidden><div class=\"sk-item\"><div class=\"sk-estimator sk-toggleable\"><input class=\"sk-toggleable__control sk-hidden--visually\" id=\"sk-estimator-id-1\" type=\"checkbox\" checked><label for=\"sk-estimator-id-1\" class=\"sk-toggleable__label sk-toggleable__label-arrow\">GaussianMixture</label><div class=\"sk-toggleable__content\"><pre>GaussianMixture(n_components=4)</pre></div></div></div></div></div>"
      ],
      "text/plain": [
       "GaussianMixture(n_components=4)"
      ]
     },
     "execution_count": 49,
     "metadata": {},
     "output_type": "execute_result"
    }
   ],
   "source": [
    "gmm = GaussianMixture(n_components = 4) \n",
    "gmm.fit(X_principal)"
   ]
  },
  {
   "cell_type": "code",
   "execution_count": 50,
   "metadata": {},
   "outputs": [
    {
     "name": "stderr",
     "output_type": "stream",
     "text": [
      "C:\\Users\\JJ\\AppData\\Local\\Temp/ipykernel_13520/1017357319.py:29: MatplotlibDeprecationWarning: Passing the angle parameter of __init__() positionally is deprecated since Matplotlib 3.6; the parameter will become keyword-only two minor releases later.\n",
      "  ellipse = Ellipse(pos, nsig * width, nsig * height, angle)\n"
     ]
    },
    {
     "data": {
      "image/png": "[encoded data removed]",
      "text/plain": [
       "<Figure size 432x288 with 1 Axes>"
      ]
     },
     "metadata": {
      "needs_background": "light"
     },
     "output_type": "display_data"
    }
   ],
   "source": [
    "plt.scatter(X_principal['P1'], X_principal['P2'], c = GaussianMixture(n_components = 4).fit_predict(X_principal), cmap =plt.cm.winter, alpha = 0.6) \n",
    "\n",
    "import matplotlib.pyplot as plt\n",
    "import numpy as np\n",
    "from scipy.stats import multivariate_normal\n",
    "from matplotlib.patches import Ellipse\n",
    "\n",
    "# means, covarianzas y pesos del gmm\n",
    "means = gmm.means_\n",
    "covariances = gmm.covariances_\n",
    "weights = gmm.weights_\n",
    "\n",
    "w_factor = 0.2 / gmm.weights_.max()\n",
    "\n",
    "for pos, covar, w in zip(gmm.means_, gmm.covariances_, gmm.weights_):\n",
    "    w2 = w * w_factor\n",
    "\n",
    "    # Convert covariance to principal axes\n",
    "    if covar.shape == (2, 2):\n",
    "        U, s, Vt = np.linalg.svd(covar)\n",
    "        angle = np.degrees(np.arctan2(U[1, 0], U[0, 0]))\n",
    "        width, height = 2 * np.sqrt(s)\n",
    "    else:\n",
    "        angle = 0\n",
    "        width, height = 2 * np.sqrt(covar)\n",
    "    \n",
    "    # Draw the Ellipse\n",
    "    for nsig in range(1, 4):\n",
    "        ellipse = Ellipse(pos, nsig * width, nsig * height, angle)\n",
    "        ellipse.set_alpha(w2)\n",
    "        plt.gca().add_patch(ellipse)\n",
    "\n",
    "plt.xlabel('TransactionTime')\n",
    "plt.ylabel('Age')\n",
    "plt.title('Gaussian Mixture Model - SKLearn')\n",
    "plt.show()"
   ]
  },
  {
   "attachments": {},
   "cell_type": "markdown",
   "metadata": {},
   "source": [
    "En este caso, la métrica de Davis Bouldin Index indica qué tan bien se crearon los clusters del respectivo modelo. Mientras más cercano a 0 esté el valor, mejor. En este caso se obtuvo 0.74."
   ]
  },
  {
   "cell_type": "code",
   "execution_count": 51,
   "metadata": {},
   "outputs": [
    {
     "name": "stdout",
     "output_type": "stream",
     "text": [
      "Davis Bouldin Index: 0.7402651394911546\n"
     ]
    }
   ],
   "source": [
    "# Davis Bouldin Index\n",
    "print(\"Davis Bouldin Index:\", metrics.davies_bouldin_score(X_principal, GaussianMixture(n_components = 4).fit_predict(X_principal)))"
   ]
  }
 ],
 "metadata": {
  "kernelspec": {
   "display_name": "Python 3",
   "language": "python",
   "name": "python3"
  },
  "language_info": {
   "codemirror_mode": {
    "name": "ipython",
    "version": 3
   },
   "file_extension": ".py",
   "mimetype": "text/x-python",
   "name": "python",
   "nbconvert_exporter": "python",
   "pygments_lexer": "ipython3",
   "version": "3.9.13"
  },
  "orig_nbformat": 4
 },
 "nbformat": 4,
 "nbformat_minor": 2
}
